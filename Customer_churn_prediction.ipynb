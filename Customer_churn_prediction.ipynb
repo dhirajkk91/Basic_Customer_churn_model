{
 "cells": [
  {
   "cell_type": "code",
   "execution_count": 4,
   "id": "1e7357d4",
   "metadata": {},
   "outputs": [],
   "source": [
    "import tensorflow as tf\n",
    "import pandas as pd\n",
    "import numpy as np\n",
    "import matplotlib.pyplot as plt\n",
    "from sklearn.model_selection import train_test_split"
   ]
  },
  {
   "cell_type": "markdown",
   "id": "8f3df986",
   "metadata": {},
   "source": [
    "#Loading the dataSet"
   ]
  },
  {
   "cell_type": "code",
   "execution_count": null,
   "id": "f27ca638",
   "metadata": {},
   "outputs": [],
   "source": [
    "data = pd.read_csv('Simple_Dataset.csv')"
   ]
  },
  {
   "cell_type": "code",
   "execution_count": 6,
   "id": "f70cce76",
   "metadata": {},
   "outputs": [
    {
     "name": "stdout",
     "output_type": "stream",
     "text": [
      "   CustomerID  Tenure  MonthlyCharges  TotalCharges        Contract  \\\n",
      "0        1001       5            70.0         350.0  Month-to-month   \n",
      "1        1002      10            85.5         850.5        Two year   \n",
      "2        1003       3            55.3         165.9        One year   \n",
      "3        1004       8            90.0         720.0  Month-to-month   \n",
      "4        1005       2            65.2         130.4        One year   \n",
      "\n",
      "      PaymentMethod  Churn  \n",
      "0  Electronic check      1  \n",
      "1      Mailed check      0  \n",
      "2  Electronic check      1  \n",
      "3       Credit card      0  \n",
      "4  Electronic check      1  \n",
      "<class 'pandas.core.frame.DataFrame'>\n",
      "RangeIndex: 5 entries, 0 to 4\n",
      "Data columns (total 7 columns):\n",
      " #   Column          Non-Null Count  Dtype  \n",
      "---  ------          --------------  -----  \n",
      " 0   CustomerID      5 non-null      int64  \n",
      " 1   Tenure          5 non-null      int64  \n",
      " 2   MonthlyCharges  5 non-null      float64\n",
      " 3   TotalCharges    5 non-null      float64\n",
      " 4   Contract        5 non-null      object \n",
      " 5   PaymentMethod   5 non-null      object \n",
      " 6   Churn           5 non-null      int64  \n",
      "dtypes: float64(2), int64(3), object(2)\n",
      "memory usage: 412.0+ bytes\n",
      "None\n"
     ]
    }
   ],
   "source": [
    "print(data.head())\n",
    "print(data.info())"
   ]
  },
  {
   "cell_type": "code",
   "execution_count": 7,
   "id": "0e99a9ee",
   "metadata": {},
   "outputs": [],
   "source": [
    "data = data.drop(columns=['CustomerID']) #Simplify the dataset\n",
    "data = data.dropna()  # Simple example of dropping missing values"
   ]
  },
  {
   "cell_type": "code",
   "execution_count": 9,
   "id": "459c269c",
   "metadata": {},
   "outputs": [
    {
     "name": "stdout",
     "output_type": "stream",
     "text": [
      "   Tenure  MonthlyCharges  TotalCharges        Contract     PaymentMethod  \\\n",
      "0       5            70.0         350.0  Month-to-month  Electronic check   \n",
      "1      10            85.5         850.5        Two year      Mailed check   \n",
      "2       3            55.3         165.9        One year  Electronic check   \n",
      "3       8            90.0         720.0  Month-to-month       Credit card   \n",
      "4       2            65.2         130.4        One year  Electronic check   \n",
      "\n",
      "   Churn  \n",
      "0      1  \n",
      "1      0  \n",
      "2      1  \n",
      "3      0  \n",
      "4      1  \n"
     ]
    }
   ],
   "source": [
    "print(data.head())"
   ]
  },
  {
   "cell_type": "code",
   "execution_count": 10,
   "id": "e730660d",
   "metadata": {},
   "outputs": [],
   "source": [
    "data = pd.get_dummies(data, drop_first=True)"
   ]
  },
  {
   "cell_type": "code",
   "execution_count": 11,
   "id": "54e94b5a",
   "metadata": {},
   "outputs": [
    {
     "name": "stdout",
     "output_type": "stream",
     "text": [
      "   Tenure  MonthlyCharges  TotalCharges  Churn  Contract_One year  \\\n",
      "0       5            70.0         350.0      1              False   \n",
      "1      10            85.5         850.5      0              False   \n",
      "2       3            55.3         165.9      1               True   \n",
      "3       8            90.0         720.0      0              False   \n",
      "4       2            65.2         130.4      1               True   \n",
      "\n",
      "   Contract_Two year  PaymentMethod_Electronic check  \\\n",
      "0              False                            True   \n",
      "1               True                           False   \n",
      "2              False                            True   \n",
      "3              False                           False   \n",
      "4              False                            True   \n",
      "\n",
      "   PaymentMethod_Mailed check  \n",
      "0                       False  \n",
      "1                        True  \n",
      "2                       False  \n",
      "3                       False  \n",
      "4                       False  \n"
     ]
    }
   ],
   "source": [
    "print(data.head())"
   ]
  },
  {
   "cell_type": "code",
   "execution_count": 12,
   "id": "6f94b7e0",
   "metadata": {},
   "outputs": [],
   "source": [
    "X = data.drop('Churn', axis=1)\n",
    "y = data['Churn']\n",
    "\n",
    "X_train, X_test, y_train, y_test = train_test_split(X, y, test_size=0.2, random_state=42)"
   ]
  },
  {
   "cell_type": "code",
   "execution_count": 13,
   "id": "3e38ba8b",
   "metadata": {},
   "outputs": [
    {
     "name": "stderr",
     "output_type": "stream",
     "text": [
      "c:\\Users\\dhira\\AppData\\Local\\Programs\\Python\\Python313\\Lib\\site-packages\\keras\\src\\layers\\core\\dense.py:92: UserWarning: Do not pass an `input_shape`/`input_dim` argument to a layer. When using Sequential models, prefer using an `Input(shape)` object as the first layer in the model instead.\n",
      "  super().__init__(activity_regularizer=activity_regularizer, **kwargs)\n"
     ]
    }
   ],
   "source": [
    "model = tf.keras.Sequential([\n",
    "    tf.keras.layers.Dense(64, activation='relu', input_shape=(X_train.shape[1],)),\n",
    "    tf.keras.layers.Dropout(0.5),\n",
    "    tf.keras.layers.Dense(32, activation='relu'),\n",
    "    tf.keras.layers.Dense(1, activation='sigmoid')\n",
    "])"
   ]
  },
  {
   "cell_type": "code",
   "execution_count": 14,
   "id": "83e69cc1",
   "metadata": {},
   "outputs": [
    {
     "name": "stdout",
     "output_type": "stream",
     "text": [
      "Epoch 1/10\n",
      "\u001b[1m1/1\u001b[0m \u001b[32m━━━━━━━━━━━━━━━━━━━━\u001b[0m\u001b[37m\u001b[0m \u001b[1m2s\u001b[0m 2s/step - accuracy: 0.7500 - loss: 18.4360 - val_accuracy: 0.0000e+00 - val_loss: 46.1935\n",
      "Epoch 2/10\n",
      "\u001b[1m1/1\u001b[0m \u001b[32m━━━━━━━━━━━━━━━━━━━━\u001b[0m\u001b[37m\u001b[0m \u001b[1m1s\u001b[0m 503ms/step - accuracy: 0.5000 - loss: 17.7749 - val_accuracy: 0.0000e+00 - val_loss: 49.6534\n",
      "Epoch 3/10\n",
      "\u001b[1m1/1\u001b[0m \u001b[32m━━━━━━━━━━━━━━━━━━━━\u001b[0m\u001b[37m\u001b[0m \u001b[1m0s\u001b[0m 97ms/step - accuracy: 0.7500 - loss: 3.6095 - val_accuracy: 0.0000e+00 - val_loss: 55.4443\n",
      "Epoch 4/10\n",
      "\u001b[1m1/1\u001b[0m \u001b[32m━━━━━━━━━━━━━━━━━━━━\u001b[0m\u001b[37m\u001b[0m \u001b[1m0s\u001b[0m 95ms/step - accuracy: 0.5000 - loss: 9.1591 - val_accuracy: 0.0000e+00 - val_loss: 62.6399\n",
      "Epoch 5/10\n",
      "\u001b[1m1/1\u001b[0m \u001b[32m━━━━━━━━━━━━━━━━━━━━\u001b[0m\u001b[37m\u001b[0m \u001b[1m0s\u001b[0m 105ms/step - accuracy: 0.7500 - loss: 27.0884 - val_accuracy: 0.0000e+00 - val_loss: 63.2564\n",
      "Epoch 6/10\n",
      "\u001b[1m1/1\u001b[0m \u001b[32m━━━━━━━━━━━━━━━━━━━━\u001b[0m\u001b[37m\u001b[0m \u001b[1m0s\u001b[0m 105ms/step - accuracy: 0.5000 - loss: 13.8304 - val_accuracy: 0.0000e+00 - val_loss: 60.3565\n",
      "Epoch 7/10\n",
      "\u001b[1m1/1\u001b[0m \u001b[32m━━━━━━━━━━━━━━━━━━━━\u001b[0m\u001b[37m\u001b[0m \u001b[1m0s\u001b[0m 116ms/step - accuracy: 0.7500 - loss: 28.7921 - val_accuracy: 0.0000e+00 - val_loss: 54.4476\n",
      "Epoch 8/10\n",
      "\u001b[1m1/1\u001b[0m \u001b[32m━━━━━━━━━━━━━━━━━━━━\u001b[0m\u001b[37m\u001b[0m \u001b[1m0s\u001b[0m 183ms/step - accuracy: 1.0000 - loss: 0.0345 - val_accuracy: 0.0000e+00 - val_loss: 49.1833\n",
      "Epoch 9/10\n",
      "\u001b[1m1/1\u001b[0m \u001b[32m━━━━━━━━━━━━━━━━━━━━\u001b[0m\u001b[37m\u001b[0m \u001b[1m0s\u001b[0m 111ms/step - accuracy: 0.7500 - loss: 4.6522 - val_accuracy: 0.0000e+00 - val_loss: 42.2263\n",
      "Epoch 10/10\n",
      "\u001b[1m1/1\u001b[0m \u001b[32m━━━━━━━━━━━━━━━━━━━━\u001b[0m\u001b[37m\u001b[0m \u001b[1m0s\u001b[0m 105ms/step - accuracy: 0.2500 - loss: 6.8782 - val_accuracy: 0.0000e+00 - val_loss: 34.8610\n"
     ]
    },
    {
     "data": {
      "text/plain": [
       "<keras.src.callbacks.history.History at 0x21a64fce120>"
      ]
     },
     "execution_count": 14,
     "metadata": {},
     "output_type": "execute_result"
    }
   ],
   "source": [
    "model.compile(optimizer='adam',\n",
    "              loss='binary_crossentropy',\n",
    "              metrics=['accuracy'])\n",
    "\n",
    "model.fit(X_train, y_train, epochs=10, validation_data=(X_test, y_test))"
   ]
  },
  {
   "cell_type": "code",
   "execution_count": 15,
   "id": "6c50c91c",
   "metadata": {},
   "outputs": [
    {
     "name": "stdout",
     "output_type": "stream",
     "text": [
      "1/1 - 0s - 68ms/step - accuracy: 0.0000e+00 - loss: 34.8610\n",
      "Test accuracy: 0.0\n"
     ]
    }
   ],
   "source": [
    "test_loss, test_acc = model.evaluate(X_test, y_test, verbose=2)\n",
    "print(f'Test accuracy: {test_acc}')"
   ]
  },
  {
   "cell_type": "code",
   "execution_count": 25,
   "id": "f8ce0a4c",
   "metadata": {},
   "outputs": [
    {
     "name": "stdout",
     "output_type": "stream",
     "text": [
      "INFO:tensorflow:Assets written to: saved_model_churn\\assets\n"
     ]
    },
    {
     "name": "stderr",
     "output_type": "stream",
     "text": [
      "INFO:tensorflow:Assets written to: saved_model_churn\\assets\n"
     ]
    },
    {
     "name": "stdout",
     "output_type": "stream",
     "text": [
      "Saved artifact at 'saved_model_churn'. The following endpoints are available:\n",
      "\n",
      "* Endpoint 'serve'\n",
      "  args_0 (POSITIONAL_ONLY): TensorSpec(shape=(None, 7), dtype=tf.float32, name='keras_tensor')\n",
      "Output Type:\n",
      "  TensorSpec(shape=(None, 1), dtype=tf.float32, name=None)\n",
      "Captures:\n",
      "  2312385144080: TensorSpec(shape=(), dtype=tf.resource, name=None)\n",
      "  2312385143888: TensorSpec(shape=(), dtype=tf.resource, name=None)\n",
      "  2312385145232: TensorSpec(shape=(), dtype=tf.resource, name=None)\n",
      "  2312385146000: TensorSpec(shape=(), dtype=tf.resource, name=None)\n",
      "  2312385145616: TensorSpec(shape=(), dtype=tf.resource, name=None)\n",
      "  2312385145040: TensorSpec(shape=(), dtype=tf.resource, name=None)\n"
     ]
    },
    {
     "name": "stderr",
     "output_type": "stream",
     "text": [
      "WARNING:absl:You are saving your model as an HDF5 file via `model.save()` or `keras.saving.save_model(model)`. This file format is considered legacy. We recommend using instead the native Keras format, e.g. `model.save('my_model.keras')` or `keras.saving.save_model(model, 'my_model.keras')`. \n"
     ]
    },
    {
     "name": "stdout",
     "output_type": "stream",
     "text": [
      "TFLite model written to model_churn.tflite\n"
     ]
    }
   ],
   "source": [
    "saved_model_dir = \"saved_model_churn\"\n",
    "model.export(saved_model_dir)   # <- Use export(), not save()\n",
    "\n",
    "# 2. (Optional) Save a backup in HDF5\n",
    "model.save(\"churn_model.h5\")\n",
    "\n",
    "# 3. Convert SavedModel → TFLite\n",
    "converter = tf.lite.TFLiteConverter.from_saved_model(saved_model_dir)\n",
    "converter.optimizations = [tf.lite.Optimize.DEFAULT]\n",
    "tflite_model = converter.convert()\n",
    "\n",
    "# 4. Save TFLite file\n",
    "with open(\"model_churn.tflite\", \"wb\") as f:\n",
    "    f.write(tflite_model)\n",
    "\n",
    "print(\"TFLite model written to model_churn.tflite\")"
   ]
  }
 ],
 "metadata": {
  "kernelspec": {
   "display_name": "Python 3",
   "language": "python",
   "name": "python3"
  },
  "language_info": {
   "codemirror_mode": {
    "name": "ipython",
    "version": 3
   },
   "file_extension": ".py",
   "mimetype": "text/x-python",
   "name": "python",
   "nbconvert_exporter": "python",
   "pygments_lexer": "ipython3",
   "version": "3.13.3"
  }
 },
 "nbformat": 4,
 "nbformat_minor": 5
}
